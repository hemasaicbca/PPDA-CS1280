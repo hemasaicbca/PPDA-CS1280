{
 "cells": [
  {
   "cell_type": "code",
   "execution_count": 2,
   "metadata": {},
   "outputs": [
    {
     "name": "stdout",
     "output_type": "stream",
     "text": [
      "[6 7 8 9 0 1]\n",
      "Type: <class 'numpy.ndarray'>\n"
     ]
    }
   ],
   "source": [
    "import numpy as np \n",
    "data1= [6,7,8,9,0,1]\n",
    "a1= np.array(data1)\n",
    "print(a1)\n",
    "print(\"Type:\",type(a1))"
   ]
  },
  {
   "cell_type": "code",
   "execution_count": 3,
   "metadata": {},
   "outputs": [
    {
     "name": "stdout",
     "output_type": "stream",
     "text": [
      "Original Array:\n",
      " [[ 1  2  3  4]\n",
      " [ 5  6  7  8]\n",
      " [ 9 10 11 12]]\n",
      "\n",
      "First Row: [1 2 3 4]\n",
      "Second Column: [ 2  6 10]\n",
      "Submatrix:\n",
      " [[ 7  8]\n",
      " [11 12]]\n"
     ]
    }
   ],
   "source": [
    "import numpy as np\n",
    "\n",
    "arr = np.array([[1, 2, 3, 4],\n",
    "                [5, 6, 7, 8],\n",
    "                [9, 10, 11, 12]])\n",
    "\n",
    "print(\"Original Array:\\n\", arr)\n",
    "\n",
    "\n",
    "row_slice = arr[0, :]  \n",
    "\n",
    "col_slice = arr[:, 1]\n",
    "\n",
    "\n",
    "submatrix = arr[1:3, 2:4]\n",
    "\n",
    "print(\"\\nFirst Row:\", row_slice)\n",
    "print(\"Second Column:\", col_slice)\n",
    "print(\"Submatrix:\\n\", submatrix)"
   ]
  },
  {
   "cell_type": "code",
   "execution_count": 4,
   "metadata": {},
   "outputs": [
    {
     "name": "stdout",
     "output_type": "stream",
     "text": [
      "Sliced Array with Steps:\n",
      " [[ 1  3]\n",
      " [ 9 11]]\n"
     ]
    }
   ],
   "source": [
    "import numpy as np\n",
    "\n",
    "arr = np.array([[1, 2, 3, 4],\n",
    "                [5, 6, 7, 8],\n",
    "                [9, 10, 11, 12]])\n",
    "\n",
    "sliced_arr = arr[::2, ::2]\n",
    "\n",
    "print(\"Sliced Array with Steps:\\n\", sliced_arr)"
   ]
  },
  {
   "cell_type": "code",
   "execution_count": 5,
   "metadata": {},
   "outputs": [
    {
     "name": "stdout",
     "output_type": "stream",
     "text": [
      "Original matrix:\n",
      " [[1. 2. 3.]\n",
      " [4. 5. 6.]\n",
      " [7. 8. 9.]\n",
      " [1. 3. 5.]]\n",
      "Transpose matrix:\n",
      " [[1. 4. 7. 1.]\n",
      " [2. 5. 8. 3.]\n",
      " [3. 6. 9. 5.]]\n"
     ]
    }
   ],
   "source": [
    "arr_3 = np.array([[1., 2., 3.], [4., 5., 6.], [7., 8., 9.], [1., 3., 5.]])\n",
    "arr_tranp = arr_3.transpose()\n",
    "print(\"Original matrix:\\n\", arr_3)\n",
    "print(\"Transpose matrix:\\n\", arr_tranp)"
   ]
  },
  {
   "cell_type": "code",
   "execution_count": 6,
   "metadata": {},
   "outputs": [
    {
     "data": {
      "text/plain": [
       "(4, 3)"
      ]
     },
     "execution_count": 6,
     "metadata": {},
     "output_type": "execute_result"
    }
   ],
   "source": [
    "arr_3.T\n",
    "arr_3.T.shape\n",
    "arr_3.shape"
   ]
  },
  {
   "cell_type": "code",
   "execution_count": 7,
   "metadata": {},
   "outputs": [
    {
     "name": "stdout",
     "output_type": "stream",
     "text": [
      "Element-wise addition:\n",
      " [[3. 4. 5.]\n",
      " [6. 7. 8.]]\n",
      "Element-wise multiplication:\n",
      " [[ 2.  4.  6.]\n",
      " [ 8. 10. 12.]]\n",
      "Element-wise exponentiation:\n",
      " [[ 1.  4.  9.]\n",
      " [16. 25. 36.]]\n",
      "Comparison:\n",
      " [[False  True False]\n",
      " [ True False  True]]\n"
     ]
    }
   ],
   "source": [
    "import numpy as np\n",
    "arr = np.array([[1., 2., 3.], [4., 5., 6.]])\n",
    "arr2 = np.array([[0., 4., 1.], [7., 2., 12.]])\n",
    "print(\"Element-wise addition:\\n\", arr + 2)\n",
    "print(\"Element-wise multiplication:\\n\", arr * 2)\n",
    "print(\"Element-wise exponentiation:\\n\", arr ** 2)\n",
    "print(\"Comparison:\\n\", arr2 > arr)"
   ]
  }
 ],
 "metadata": {
  "kernelspec": {
   "display_name": "Python 3",
   "language": "python",
   "name": "python3"
  },
  "language_info": {
   "codemirror_mode": {
    "name": "ipython",
    "version": 3
   },
   "file_extension": ".py",
   "mimetype": "text/x-python",
   "name": "python",
   "nbconvert_exporter": "python",
   "pygments_lexer": "ipython3",
   "version": "3.13.1"
  }
 },
 "nbformat": 4,
 "nbformat_minor": 2
}
